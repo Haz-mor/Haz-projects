{
 "cells": [
  {
   "cell_type": "markdown",
   "metadata": {},
   "source": [
    "Ejercicio\n",
    "Administras una pequeña tienda online que vende diferentes productos. Cada producto de tu tienda tiene un precio, una cantidad disponible en stock y un descuento que puedes ofrecer a los clientes. Realizas un seguimiento de esta información en un diccionario donde cada clave es el nombre del producto y el valor es otro diccionario que contiene price (el precio), quantity (la cantidad) y discount (el descuento).\n",
    "\n",
    "Tu objetivo es calcular los ingresos totales que generarías si vendieras todos los artículos en stock, teniendo en cuenta los descuentos. Además, deseas identificar el producto más caro en tu inventario y aplicarle una reducción de precio del 10% como parte de una promoción especial.\n",
    "\n",
    "Calcula los ingresos totales: recorre tu inventario de productos y calcula los ingresos totales sumando el valor de ventas de cada producto (precio × cantidad × (1 - descuento)).\n",
    "Identifica el producto más caro: durante este bucle, realiza un seguimiento del producto con el precio más alto.\n",
    "Aplica un descuento: después de identificar el producto más caro, reduce su precio en un 10%.\n",
    "Muestra los resultados: finalmente, imprime los ingresos totales y muestra el nombre del producto más caro junto con su precio actualizado.\n",
    "Tu script debe imprimir los ingresos totales de la venta de todos los productos y mostrar el precio actualizado del producto más caro después del descuento."
   ]
  },
  {
   "cell_type": "code",
   "execution_count": 1,
   "metadata": {},
   "outputs": [
    {
     "name": "stdout",
     "output_type": "stream",
     "text": [
      "Costo total: $97.00\n",
      "Producto más caro: Product_B (Precio actualizado a $18.00)\n"
     ]
    }
   ],
   "source": [
    "# Diccionario anidado que representa productos\n",
    "products = {\n",
    "    'Product_A': {'price': 10, 'quantity': 2, 'discount': 0.1},\n",
    "    'Product_B': {'price': 20, 'quantity': 1, 'discount': 0.05},\n",
    "    'Product_C': {'price': 15, 'quantity': 5, 'discount': 0.2},\n",
    "}\n",
    "\n",
    "# Inicializa las variables\n",
    "total_cost = 0\n",
    "most_expensive_product = None\n",
    "highest_price = 0\n",
    "\n",
    "# Calcula el costo total y encuentra el producto más caro\n",
    "for product in products:\n",
    "    # Accede a los detalles de producto\n",
    "    price = products[product]['price']\n",
    "    quantity = products[product]['quantity']\n",
    "    discount = products[product]['discount']\n",
    "\n",
    "    # Calcula el costo de cada producto\n",
    "    cost = price * quantity * (1 - discount)\n",
    "    total_cost += cost\n",
    "\n",
    "    # Comprueba si el producto actual es el más caro\n",
    "    if price > highest_price:\n",
    "        highest_price = price\n",
    "        most_expensive_product = product\n",
    "\n",
    "# Actualiza el precio del producto más caro (ejemplo: reducirlo en un 10%)\n",
    "if most_expensive_product:\n",
    "    products[most_expensive_product]['price'] *= 0.9\n",
    "\n",
    "# Muestra los resultados\n",
    "print(f\"Costo total: ${total_cost:.2f}\")\n",
    "print(f\"Producto más caro: {most_expensive_product} (Precio actualizado a ${products[most_expensive_product]['price']:.2f})\")"
   ]
  },
  {
   "cell_type": "code",
   "execution_count": 2,
   "metadata": {},
   "outputs": [],
   "source": [
    "financial_info = {\n",
    "'American Express': {'stock_price': 93.23, 'market_cap': 93.7, 'dividend_yield': 1.3},\n",
    "'Boeing': {'stock_price': 178.44, 'market_cap': 101.2, 'dividend_yield': 0.0},\n",
    "'Coca-Cola': {'stock_price': 45.15, 'market_cap': 198.6, 'dividend_yield': 3.1},\n",
    "'Nike': {'stock_price': 97.99, 'market_cap': 152.0, 'dividend_yield': 0.8},\n",
    "'JPMorgan': {'stock_price': 96.27, 'market_cap': 362.5, 'dividend_yield': 2.6},\n",
    "'Walmart': {'stock_price': 130.68, 'market_cap': 370.0, 'dividend_yield': 1.8}\n",
    "}"
   ]
  },
  {
   "cell_type": "markdown",
   "metadata": {},
   "source": [
    "Para obtener un valor de una lista, necesitamos pasar la clave correcta a un par de corchetes o al método get():\n"
   ]
  },
  {
   "cell_type": "code",
   "execution_count": 5,
   "metadata": {},
   "outputs": [
    {
     "name": "stdout",
     "output_type": "stream",
     "text": [
      "130.68\n",
      "130.68\n"
     ]
    }
   ],
   "source": [
    "financial_info = {\n",
    "    'American Express': 93.23,\n",
    "    'Boeing': 178.44,\n",
    "    'Coca-Cola': 45.15,\n",
    "    'Nike': 97.99,\n",
    "    'JPMorgan':96.27,\n",
    "    'Walmart': 130.68 \n",
    "}\n",
    "\n",
    "walmart_price_1 = financial_info['Walmart']\n",
    "walmart_price_2 = financial_info.get('Walmart')\n",
    "\n",
    "print(walmart_price_1)\n",
    "print(walmart_price_2)"
   ]
  },
  {
   "cell_type": "markdown",
   "metadata": {},
   "source": [
    "Agregar un nuevo par clave-valor a una lista se puede hacer así de fácil:"
   ]
  },
  {
   "cell_type": "code",
   "execution_count": 4,
   "metadata": {},
   "outputs": [
    {
     "name": "stdout",
     "output_type": "stream",
     "text": [
      "{'American Express': 93.23, 'Boeing': 178.44, 'Coca-Cola': 45.15, 'Nike': 97.99, 'JPMorgan': 96.27, 'Walmart': 130.68, 'Walt Disney': 119.34}\n"
     ]
    }
   ],
   "source": [
    "financial_info = {\n",
    "    'American Express': 93.23,\n",
    "    'Boeing': 178.44,\n",
    "    'Coca-Cola': 45.15,\n",
    "    'Nike': 97.99,\n",
    "    'JPMorgan':96.27,\n",
    "    'Walmart': 130.68 \n",
    "}\n",
    "\n",
    "financial_info['Walt Disney'] = 119.34\n",
    "print(financial_info)"
   ]
  },
  {
   "cell_type": "markdown",
   "metadata": {},
   "source": [
    "Es una buena práctica comprobar si una clave ya se encuentra en un diccionario. Si es así, normalmente nos interesa modificar su valor. De lo contrario, agregamos una nueva clave y el valor correspondiente. A continuación te mostramos un ejemplo:"
   ]
  },
  {
   "cell_type": "code",
   "execution_count": 7,
   "metadata": {},
   "outputs": [],
   "source": [
    "# comprobamos si Walt Disney existe\n",
    "if financial_info.get('Walt Disney') == None: \n",
    "    financial_info['Walt Disney'] = 119.34 # si no, la agregamos\n",
    "else: # si existe\n",
    "    financial_info['Walt Disney'] += 3.2 # actualizamos el valor "
   ]
  },
  {
   "cell_type": "markdown",
   "metadata": {},
   "source": [
    "Por último, pero no menos importante, del o pop() se utilizan para eliminar elementos de un diccionario:"
   ]
  },
  {
   "cell_type": "code",
   "execution_count": 8,
   "metadata": {},
   "outputs": [
    {
     "name": "stdout",
     "output_type": "stream",
     "text": [
      "{'American Express': 93.23, 'Coca-Cola': 45.15, 'JPMorgan': 96.27, 'Walmart': 130.68}\n"
     ]
    }
   ],
   "source": [
    "financial_info = {\n",
    "    'American Express': 93.23,\n",
    "    'Boeing': 178.44,\n",
    "    'Coca-Cola': 45.15,\n",
    "    'Nike': 97.99,\n",
    "    'JPMorgan':96.27,\n",
    "    'Walmart': 130.68 \n",
    "}\n",
    "\n",
    "del financial_info['Nike']\n",
    "boeing_price = financial_info.pop('Boeing')\n",
    "print(financial_info)"
   ]
  },
  {
   "cell_type": "code",
   "execution_count": 10,
   "metadata": {},
   "outputs": [
    {
     "name": "stdout",
     "output_type": "stream",
     "text": [
      "George Orwell\n",
      "Leo Tolstoy\n",
      "Ralph Ellison\n",
      "Antoine de Saint-Exupéry\n"
     ]
    }
   ],
   "source": [
    "books = {\n",
    "        'George Orwell': '1984',\n",
    "    'Leo Tolstoy': 'Guerra y paz',\n",
    "    'Ralph Ellison': 'El hombre invisible',\n",
    "    'Antoine de Saint-Exupéry': 'El principito'\n",
    "}\n",
    "\n",
    "for author in books:\n",
    "    print(author)"
   ]
  },
  {
   "cell_type": "code",
   "execution_count": 11,
   "metadata": {},
   "outputs": [
    {
     "name": "stdout",
     "output_type": "stream",
     "text": [
      "George Orwell 1984\n",
      "Leo Tolstoy Guerra y paz\n",
      "Ralph Ellison El hombre invisible\n",
      "Antoine de Saint-Exupéry El principito\n"
     ]
    }
   ],
   "source": [
    "books = {\n",
    "        'George Orwell': '1984',\n",
    "    'Leo Tolstoy': 'Guerra y paz',\n",
    "    'Ralph Ellison': 'El hombre invisible',\n",
    "    'Antoine de Saint-Exupéry': 'El principito'\n",
    "}\n",
    "\n",
    "for author, title in books.items():\n",
    "    print(author, title)"
   ]
  }
 ],
 "metadata": {
  "kernelspec": {
   "display_name": "Python 3",
   "language": "python",
   "name": "python3"
  },
  "language_info": {
   "codemirror_mode": {
    "name": "ipython",
    "version": 3
   },
   "file_extension": ".py",
   "mimetype": "text/x-python",
   "name": "python",
   "nbconvert_exporter": "python",
   "pygments_lexer": "ipython3",
   "version": "3.12.6"
  }
 },
 "nbformat": 4,
 "nbformat_minor": 2
}
