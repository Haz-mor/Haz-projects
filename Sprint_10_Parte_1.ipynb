{
  "nbformat": 4,
  "nbformat_minor": 0,
  "metadata": {
    "colab": {
      "provenance": [],
      "include_colab_link": true
    },
    "kernelspec": {
      "name": "python3",
      "display_name": "Python 3"
    },
    "language_info": {
      "name": "python"
    }
  },
  "cells": [
    {
      "cell_type": "markdown",
      "metadata": {
        "id": "view-in-github",
        "colab_type": "text"
      },
      "source": [
        "<a href=\"https://colab.research.google.com/github/Haz-mor/Haz-projects/blob/main/Sprint_10_Parte_1.ipynb\" target=\"_parent\"><img src=\"https://colab.research.google.com/assets/colab-badge.svg\" alt=\"Open In Colab\"/></a>"
      ]
    },
    {
      "cell_type": "markdown",
      "source": [
        "## 🎯 Objetivo del ejercicio:\n",
        "Aplicar los contenidos vistos sobre estandarización, transformación y métricas.\n",
        "\n",
        "## 📝 Descripción del problema:\n",
        "Dentro de la empresa Alfa Bank necesitamos predecir si un cliente dejará el banco pronto.Tenemos los datos sobre el comportamiento pasado de los clientes y la terminación de contratos con el banco."
      ],
      "metadata": {
        "id": "W-KODbBsXmNc"
      }
    },
    {
      "cell_type": "markdown",
      "source": [
        "*   RowNumber: índice de cadena de datos\n",
        "*   CustomerId: identificador de cliente único\n",
        "*   Surname: apellido\n",
        "*   CreditScore: valor de crédito\n",
        "*   Geography: país de residencia\n",
        "*   Gender: sexo\n",
        "*   Age: edad\n",
        "*   Tenure: período durante el cual ha madurado el depósito a plazo fijo de un cliente (años)\n",
        "*   Balance: saldo de la cuenta\n",
        "*   NumOfProducts: número de productos bancarios utilizados por el cliente\n",
        "*   HasCrCard: el cliente tiene una tarjeta de crédito (1 - sí; 0 - no)\n",
        "*   IsActiveMember: actividad del cliente (1 - sí; 0 - no)\n",
        "*   EstimatedSalary: salario estimado"
      ],
      "metadata": {
        "id": "an9kadM33Sqf"
      }
    },
    {
      "cell_type": "code",
      "execution_count": null,
      "metadata": {
        "id": "TzQOcs7hXjg9"
      },
      "outputs": [],
      "source": [
        "import pandas as pd\n",
        "\n",
        "# Cargar el CSV\n",
        "df = pd.read_csv(\"Churn.csv\")\n",
        "\n",
        "# Mostrar las primeras filas y columnas disponibles\n",
        "df.dropna(inplace=True)\n",
        "df.head()\n"
      ]
    },
    {
      "cell_type": "markdown",
      "source": [
        "## Antes de empezar!!... Hay columnas que podemos eliminar ? que no aporten valor al modelo ?"
      ],
      "metadata": {
        "id": "JE0frhDFGDT-"
      }
    },
    {
      "cell_type": "code",
      "source": [
        "### R:\n",
        "col_to_del = []\n",
        "df.drop(columns=col_to_del,inplace = True)"
      ],
      "metadata": {
        "id": "nM1KTU56GCyl"
      },
      "execution_count": null,
      "outputs": []
    },
    {
      "cell_type": "markdown",
      "source": [
        "## Codificación de Variables Categóricas"
      ],
      "metadata": {
        "id": "4nINxIO32Frq"
      }
    },
    {
      "cell_type": "markdown",
      "source": [
        "### One-Hot Encoding: Para Variables Nominales!"
      ],
      "metadata": {
        "id": "UO0TDb0E4J7H"
      }
    },
    {
      "cell_type": "markdown",
      "source": [
        "#### Usando pandas : get_dummies()"
      ],
      "metadata": {
        "id": "qqX4RVBj4NPt"
      }
    },
    {
      "cell_type": "code",
      "source": [
        "#Seleccionar columnas nominales :\n",
        "col_to_transform = []\n",
        "# Aplicamos onehotencoding de pandas:\n",
        "df_transf = pd.get_dummies(df[col_to_transform], dtype=int, drop_first=True)"
      ],
      "metadata": {
        "id": "s4QSorbul_u2"
      },
      "execution_count": null,
      "outputs": []
    },
    {
      "cell_type": "code",
      "source": [
        "# Mostramos la información\n",
        "df_transf"
      ],
      "metadata": {
        "id": "zKQxBFl1_1aR"
      },
      "execution_count": null,
      "outputs": []
    },
    {
      "cell_type": "code",
      "source": [
        "# Juntamos los dataframes\n",
        "df_final = pd.concat([df,df_transf],axis=1)"
      ],
      "metadata": {
        "id": "Po0Nkxs8BQru"
      },
      "execution_count": null,
      "outputs": []
    },
    {
      "cell_type": "code",
      "source": [
        "# Eliminamos las columnas transformadas\n",
        "df_final.drop(columns=col_to_transform,inplace=True)"
      ],
      "metadata": {
        "id": "HQ3qkO-iBo6F"
      },
      "execution_count": null,
      "outputs": []
    },
    {
      "cell_type": "code",
      "source": [
        "# Mostramos el resultado:\n",
        "df_final.head()"
      ],
      "metadata": {
        "id": "taiHdRneCZHL"
      },
      "execution_count": null,
      "outputs": []
    },
    {
      "cell_type": "markdown",
      "source": [
        "### Hay Variables Ordinales?"
      ],
      "metadata": {
        "id": "HPj_p8_iDm4L"
      }
    },
    {
      "cell_type": "code",
      "source": [
        "## Respuesta:"
      ],
      "metadata": {
        "id": "2ECrjVSoD0Nx"
      },
      "execution_count": null,
      "outputs": []
    },
    {
      "cell_type": "markdown",
      "source": [
        "## Estandarización de Variables Numéricas\n"
      ],
      "metadata": {
        "id": "OXHgtrD2Dw-h"
      }
    },
    {
      "cell_type": "markdown",
      "source": [
        "### Escalado Estandar: StandardScaler"
      ],
      "metadata": {
        "id": "IMuua8lVEHIZ"
      }
    },
    {
      "cell_type": "code",
      "source": [
        "from sklearn.preprocessing import StandardScaler\n",
        "\n",
        "# Escalado de todas las variables (después de codificar) sin incluir la variable a predecir!\n",
        "scaler_std = StandardScaler()\n",
        "\n",
        "# Capturamos todas las columnas:\n",
        "cols = list(df_final.columns)\n",
        "cols.remove('Exited')\n",
        "X_scaled = scaler_std.fit_transform(df_final[cols])\n",
        "# Para inspeccionar el resultado\n",
        "X_scaled_std_df = pd.DataFrame(X_scaled, columns=cols)"
      ],
      "metadata": {
        "id": "kwZAfgw1EDSi"
      },
      "execution_count": null,
      "outputs": []
    },
    {
      "cell_type": "code",
      "source": [
        "X_scaled_std_df"
      ],
      "metadata": {
        "id": "8mTCc55EFktX"
      },
      "execution_count": null,
      "outputs": []
    },
    {
      "cell_type": "markdown",
      "source": [
        "### Minmax Scaler:"
      ],
      "metadata": {
        "id": "CM63CA5yEL2A"
      }
    },
    {
      "cell_type": "code",
      "source": [
        "from sklearn.preprocessing import MinMaxScaler\n",
        "scaler_mm = MinMaxScaler()\n",
        "X_scaled_mm = scaler_mm.fit_transform(df_final[cols])\n",
        "\n",
        "# Para inspeccionar el resultado\n",
        "X_scaled_mm_df = pd.DataFrame(X_scaled_mm, columns=cols)"
      ],
      "metadata": {
        "id": "OUspvH3WHZAE"
      },
      "execution_count": null,
      "outputs": []
    },
    {
      "cell_type": "code",
      "source": [
        "X_scaled_mm_df"
      ],
      "metadata": {
        "id": "OHpZ_FYvHmVb"
      },
      "execution_count": null,
      "outputs": []
    },
    {
      "cell_type": "markdown",
      "source": [
        "## División de datos y Entrenamiento Básico"
      ],
      "metadata": {
        "id": "7EXhhGP6JQ5Z"
      }
    },
    {
      "cell_type": "code",
      "source": [
        "from sklearn.model_selection import train_test_split\n",
        "from sklearn.linear_model import LogisticRegression\n",
        "\n",
        "y = df['Exited']\n",
        "X_train, X_test, y_train, y_test = train_test_split(X_scaled_std_df, y, test_size=0.3, random_state=42, stratify=y)\n"
      ],
      "metadata": {
        "id": "cjHlkSjJJRTw"
      },
      "execution_count": null,
      "outputs": []
    },
    {
      "cell_type": "markdown",
      "source": [
        "## Métricas de Clasificación"
      ],
      "metadata": {
        "id": "qvhkuQ8SJf2g"
      }
    },
    {
      "cell_type": "code",
      "source": [
        "from sklearn.metrics import classification_report, confusion_matrix, ConfusionMatrixDisplay\n",
        "## Modelo simple:\n",
        "model = LogisticRegression()\n",
        "model.fit(X_train, y_train)\n",
        "\n",
        "#Entrenamos:\n",
        "y_pred = model.predict(X_test)\n",
        "\n",
        "print(\"Reporte de métricas:\")\n",
        "print(classification_report(y_test, y_pred))\n",
        "\n",
        "ConfusionMatrixDisplay.from_predictions(y_test, y_pred)"
      ],
      "metadata": {
        "id": "YfsYMCQqKAhY"
      },
      "execution_count": null,
      "outputs": []
    },
    {
      "cell_type": "markdown",
      "source": [
        "## Curva ROC y AUC"
      ],
      "metadata": {
        "id": "9uCP_OuWK5Gd"
      }
    },
    {
      "cell_type": "code",
      "source": [
        "from sklearn.metrics import roc_auc_score, roc_curve\n",
        "import matplotlib.pyplot as plt\n",
        "\n",
        "y_proba = model.predict_proba(X_test)[:, 1]\n",
        "fpr, tpr, _ = roc_curve(y_test, y_proba)\n",
        "\n",
        "plt.plot(fpr, tpr, label=f'AUC = {roc_auc_score(y_test, y_proba):.2f}')\n",
        "plt.plot([0, 1], [0, 1], 'k--')\n",
        "plt.xlabel('Tasa de Falsos Positivos')\n",
        "plt.ylabel('Tasa de Verdaderos Positivos')\n",
        "plt.title('Curva ROC')\n",
        "plt.legend()\n",
        "plt.grid(True)\n",
        "plt.show()\n"
      ],
      "metadata": {
        "id": "IzoDKX4bK6aE"
      },
      "execution_count": null,
      "outputs": []
    },
    {
      "cell_type": "markdown",
      "source": [
        "## Manejo de Desbalanceo con class_weight"
      ],
      "metadata": {
        "id": "Eg_ApDccLCyF"
      }
    },
    {
      "cell_type": "code",
      "source": [
        "# Modelo simple balanceado:\n",
        "model_balanced = LogisticRegression(class_weight='balanced')\n",
        "#Entrenamos:\n",
        "model_balanced.fit(X_train, y_train)\n",
        "print(\"Reporte con pesos balanceados:\")\n",
        "y_pred_new = model_balanced.predict(X_test)\n",
        "print(classification_report(y_test, model_balanced.predict(X_test)))\n",
        "ConfusionMatrixDisplay.from_predictions(y_test, y_pred_new)"
      ],
      "metadata": {
        "id": "kT58C7QvLBC1"
      },
      "execution_count": null,
      "outputs": []
    },
    {
      "cell_type": "code",
      "source": [
        "from sklearn.metrics import roc_auc_score, roc_curve\n",
        "import matplotlib.pyplot as plt\n",
        "\n",
        "y_proba = model_balanced.predict_proba(X_test)[:, 1]\n",
        "fpr, tpr, _ = roc_curve(y_test, y_proba)\n",
        "\n",
        "plt.plot(fpr, tpr, label=f'AUC = {roc_auc_score(y_test, y_proba):.2f}')\n",
        "plt.plot([0, 1], [0, 1], 'k--')\n",
        "plt.xlabel('Tasa de Falsos Positivos')\n",
        "plt.ylabel('Tasa de Verdaderos Positivos')\n",
        "plt.title('Curva ROC')\n",
        "plt.legend()\n",
        "plt.grid(True)\n",
        "plt.show()"
      ],
      "metadata": {
        "id": "P7PFeMQbf7Fi"
      },
      "execution_count": null,
      "outputs": []
    }
  ]
}